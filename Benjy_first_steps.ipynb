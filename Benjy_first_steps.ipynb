{
 "cells": [
  {
   "cell_type": "markdown",
   "metadata": {},
   "source": [
    "# First Steps"
   ]
  },
  {
   "cell_type": "code",
   "execution_count": 1,
   "metadata": {},
   "outputs": [],
   "source": [
    "import numpy as np\n",
    "import pandas as pd"
   ]
  },
  {
   "cell_type": "code",
   "execution_count": 21,
   "metadata": {},
   "outputs": [],
   "source": [
    "#          игр  %побед болельщиков\n",
    "ih_wgt_np = np.array([\n",
    "           [0.1, 0.2, -0.1],   # hid[0]\n",
    "           [-0.1, 0.1, 0.9],   # hid[1]\n",
    "           [0.1, 0.4, 0.1]]).T # hid[2]\n",
    "\n",
    "#         hid[0] hid[1] hid[2]\n",
    "hp_wgt_np = np.array([\n",
    "           [0.3, 1.1, -0.3],   # травмы\n",
    "           [0.1, 0.2, 0.0],    # победа\n",
    "           [0.0, 1.3, 0.1]]).T # печаль\n",
    "\n",
    "weights = [ih_wgt_np, hp_wgt_np]\n",
    "\n",
    "def benjy(data, weights):\n",
    "    hid  = data.dot(weights[0])\n",
    "    pred = hid.dot(weights[1])\n",
    "    return pred\n",
    "\n",
    "toes  = np.array([8.5, 9.5, 9.9, 9.0])\n",
    "wlrec = np.array([0.65, 0.8, 0.8, 0.9])\n",
    "nfans = np.array([1.2, 1.3, 0.5, 1.0])"
   ]
  },
  {
   "cell_type": "code",
   "execution_count": 22,
   "metadata": {},
   "outputs": [
    {
     "data": {
      "text/plain": [
       "array([0.2135, 0.145 , 0.5065])"
      ]
     },
     "execution_count": 22,
     "metadata": {},
     "output_type": "execute_result"
    }
   ],
   "source": [
    "data = np.array([toes[0], wlrec[0], nfans[0]])\n",
    "pred = benjy(data, weights)\n",
    "pred"
   ]
  },
  {
   "cell_type": "code",
   "execution_count": null,
   "metadata": {},
   "outputs": [],
   "source": []
  }
 ],
 "metadata": {
  "kernelspec": {
   "display_name": "Python 3",
   "language": "python",
   "name": "python3"
  },
  "language_info": {
   "codemirror_mode": {
    "name": "ipython",
    "version": 3
   },
   "file_extension": ".py",
   "mimetype": "text/x-python",
   "name": "python",
   "nbconvert_exporter": "python",
   "pygments_lexer": "ipython3",
   "version": "3.8.5"
  }
 },
 "nbformat": 4,
 "nbformat_minor": 2
}
